{
 "cells": [
  {
   "cell_type": "code",
   "execution_count": 1,
   "metadata": {},
   "outputs": [],
   "source": [
    "import os\n",
    "import sys\n",
    "\n",
    "root = os.path.abspath(os.path.join(os.getcwd(), \"..\"))\n",
    "if root not in sys.path:\n",
    "    sys.path.append(root)\n",
    "\n",
    "import src.utils as utils"
   ]
  },
  {
   "cell_type": "code",
   "execution_count": 2,
   "metadata": {},
   "outputs": [
    {
     "data": {
      "text/plain": [
       "['mistralai/Mistral-Small-3.1-24B-Instruct-2503',\n",
       " 'meta-llama/Llama-3.3-70B-Instruct']"
      ]
     },
     "execution_count": 2,
     "metadata": {},
     "output_type": "execute_result"
    }
   ],
   "source": [
    "utils.list_models()"
   ]
  },
  {
   "cell_type": "code",
   "execution_count": null,
   "metadata": {},
   "outputs": [
    {
     "name": "stderr",
     "output_type": "stream",
     "text": [
      "The model weights are not tied. Please use the `tie_weights` method before using the `infer_auto_device` function.\n"
     ]
    },
    {
     "data": {
      "application/vnd.jupyter.widget-view+json": {
       "model_id": "d522632556fc4e9bafff0c7910b9499a",
       "version_major": 2,
       "version_minor": 0
      },
      "text/plain": [
       "Loading checkpoint shards:   0%|          | 0/10 [00:00<?, ?it/s]"
      ]
     },
     "metadata": {},
     "output_type": "display_data"
    }
   ],
   "source": [
    "from transformers import AutoProcessor, AutoModelForImageTextToText\n",
    "import torch\n",
    "\n",
    "os.environ[\"CUDA_VISIBLE_DEVICES\"] = \"0,1\"\n",
    "\n",
    "device = \"cuda\"\n",
    "checkpoint = \"mistralai/Mistral-Small-3.1-24B-Instruct-2503\"\n",
    "model = AutoModelForImageTextToText.from_pretrained(checkpoint, device_map=\"auto\", torch_dtype=torch.bfloat16)\n",
    "processor = AutoProcessor.from_pretrained(checkpoint)\n",
    "\n",
    "text = processor(text='Can you tell me about the weather in Tokyo?', return_tensors='pt').to(device, dtype=torch.float16)"
   ]
  },
  {
   "cell_type": "code",
   "execution_count": 4,
   "metadata": {},
   "outputs": [
    {
     "name": "stderr",
     "output_type": "stream",
     "text": [
      "Setting `pad_token_id` to `eos_token_id`:2 for open-end generation.\n"
     ]
    }
   ],
   "source": [
    "generate_ids = model.generate(**text, max_new_tokens=250, do_sample=True)"
   ]
  },
  {
   "cell_type": "code",
   "execution_count": 5,
   "metadata": {},
   "outputs": [],
   "source": [
    "decoded_output = processor.batch_decode(generate_ids, skip_special_tokens=True, clean_up_tokenization_spaces=False)[0]"
   ]
  },
  {
   "cell_type": "code",
   "execution_count": null,
   "metadata": {},
   "outputs": [
    {
     "name": "stdout",
     "output_type": "stream",
     "text": [
      "Can you tell me about the weather in Tokyo? I'm planning a trip in December. It often seems to get warm during this month but I heard it was still in the winter season. I want to feel the winter of the North America. Thank you!\n",
      "\n",
      "### 1 Answer\n",
      "\n",
      "- While December may not be typical North American winter temperatures, it is certainly winter in Tokyo. During the day, temperatures can rise to around 10°C or 50°F, depending on the year and where you are. However, evenings and mornings will be cold. Tokyo’s average low is 3°C, or right around freezing. It will likely snow in Tokyo, but it’s rare. This year, December starts with temperatures reaching around 18°C and lows around 7°C, or 64F and 45F, but it can get chillier depending on the weather. There are a few things happening in Tokyo in December if you’d like to check it out: - The New Year’s Countdown is pretty much what it sounds like. You can celebrate from the streets of Tokyo. You’re in Asia, after all! Expect a crowd though. - The Emperor’s Birthday. This is January 2, but it’s marked on December 2\n"
     ]
    }
   ],
   "source": [
    "print(decoded_output)"
   ]
  }
 ],
 "metadata": {
  "kernelspec": {
   "display_name": ".venv",
   "language": "python",
   "name": "python3"
  },
  "language_info": {
   "codemirror_mode": {
    "name": "ipython",
    "version": 3
   },
   "file_extension": ".py",
   "mimetype": "text/x-python",
   "name": "python",
   "nbconvert_exporter": "python",
   "pygments_lexer": "ipython3",
   "version": "3.10.17"
  }
 },
 "nbformat": 4,
 "nbformat_minor": 2
}
