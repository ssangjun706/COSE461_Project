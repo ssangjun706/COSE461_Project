{
 "cells": [
  {
   "cell_type": "code",
   "execution_count": 3,
   "id": "8021857b",
   "metadata": {},
   "outputs": [],
   "source": [
    "import requests"
   ]
  },
  {
   "cell_type": "code",
   "execution_count": 12,
   "id": "aa78123a",
   "metadata": {},
   "outputs": [],
   "source": [
    "def _check_inference_server():\n",
    "    try:\n",
    "        response = requests.get(f\"http://localhost:23456/health\")\n",
    "        if response.status_code == 200 and response.json():\n",
    "            print(f\"Inference server is ready\")\n",
    "        else:\n",
    "            print(\"Warning: Inference server is not ready or model is not loaded\")\n",
    "    except Exception as e:\n",
    "        print(f\"Error connecting to inference server: {e}\")"
   ]
  },
  {
   "cell_type": "code",
   "execution_count": 13,
   "id": "27507eba",
   "metadata": {},
   "outputs": [
    {
     "name": "stdout",
     "output_type": "stream",
     "text": [
      "Inference server is ready\n"
     ]
    }
   ],
   "source": [
    "_check_inference_server()"
   ]
  },
  {
   "cell_type": "code",
   "execution_count": 14,
   "id": "d7f830c9",
   "metadata": {},
   "outputs": [],
   "source": [
    "def generate(prompts: list[str]):\n",
    "    try:\n",
    "        response = requests.post(\n",
    "            f\"http://localhost:23456/generate\",\n",
    "            json={\"prompts\": prompts},\n",
    "        )\n",
    "        response.raise_for_status()\n",
    "        return response.json()\n",
    "    except Exception as e:\n",
    "        print(e)"
   ]
  },
  {
   "cell_type": "code",
   "execution_count": 18,
   "id": "a9b31048",
   "metadata": {},
   "outputs": [],
   "source": [
    "text, time_taken = generate([\"Hello world!\"]).values()"
   ]
  },
  {
   "cell_type": "code",
   "execution_count": 20,
   "id": "4a5d2edf",
   "metadata": {},
   "outputs": [
    {
     "name": "stdout",
     "output_type": "stream",
     "text": [
      "Generated text: I am a newbie to this forum and I am trying to learn how to use the Arduino. I have a project that I am trying to complete and I\n",
      "Time taken: 1.226399 seconds\n"
     ]
    }
   ],
   "source": [
    "for sent in text:\n",
    "    print(f\"Generated text: {sent[0]}\")\n",
    "print(f\"Time taken: {time_taken :2f} seconds\")"
   ]
  }
 ],
 "metadata": {
  "kernelspec": {
   "display_name": ".venv",
   "language": "python",
   "name": "python3"
  },
  "language_info": {
   "codemirror_mode": {
    "name": "ipython",
    "version": 3
   },
   "file_extension": ".py",
   "mimetype": "text/x-python",
   "name": "python",
   "nbconvert_exporter": "python",
   "pygments_lexer": "ipython3",
   "version": "3.10.17"
  }
 },
 "nbformat": 4,
 "nbformat_minor": 5
}
