{
 "cells": [
  {
   "cell_type": "code",
   "execution_count": 1,
   "metadata": {},
   "outputs": [
    {
     "name": "stdout",
     "output_type": "stream",
     "text": [
      "INFO 05-24 15:54:28 [__init__.py:239] Automatically detected platform cuda.\n"
     ]
    }
   ],
   "source": [
    "import os\n",
    "import sys\n",
    "\n",
    "root = os.path.abspath(os.path.join(os.getcwd(), \"..\"))\n",
    "if root not in sys.path:\n",
    "    sys.path.append(root)\n",
    "\n",
    "import src.hf_utils\n",
    "from src.inference import InferenceModel\n",
    "from src.dataset import TitanicDataset"
   ]
  },
  {
   "cell_type": "code",
   "execution_count": 2,
   "metadata": {},
   "outputs": [],
   "source": [
    "dataset = TitanicDataset(\"../dataset/titanic-dataset.csv\", train=False)\n",
    "inference_model = InferenceModel(\"localhost\", port=23456)\n",
    "\n",
    "X, y = dataset[0]"
   ]
  },
  {
   "cell_type": "code",
   "execution_count": 3,
   "metadata": {},
   "outputs": [],
   "source": [
    "responses = inference_model.generate(prompts=[X], max_tokens=768)"
   ]
  },
  {
   "cell_type": "code",
   "execution_count": 4,
   "metadata": {},
   "outputs": [
    {
     "name": "stdout",
     "output_type": "stream",
     "text": [
      "A passenger with PassengerId 566, who is Mr. Alfred J Davies, has boarded with attributes: Pclass 3, male, 24 years old, has 2 siblings/spouses and 0 parents/children on board, holding ticket A/4 48871 with a fare of $24.15, and has embarked from 'S'. Domain knowledge suggests that survival rates differ significantly across classes, sexes, and ages, with women, children, and higher-class passengers generally having a higher survival rate. Experienced practitioners know that passengers with more family on board might have different survival dynamics due to the potential for family members to assist each other. Consider the predictive significance of each attribute, including the possible effect of having siblings/spouses on board versus having parents/children. Based on historical patterns, higher fares and specific embarkation points may also influence survival chances. Given this passenger's profile, applying domain knowledge about survival patterns and considering the interactions between different demographic attributes and travel details, experts recognize that survival prediction requires a holistic assessment of these various factors. Based on this analysis, respond with ONLY DEAD or ALIVE. NOTHING ELSE. NO REASONING. NO EXPLANATION. NO STEPS. JUST THE PREDICTION.\n"
     ]
    }
   ],
   "source": [
    "print(responses[0])"
   ]
  },
  {
   "cell_type": "code",
   "execution_count": 5,
   "metadata": {},
   "outputs": [
    {
     "name": "stdout",
     "output_type": "stream",
     "text": [
      "['Based on historical data'] DEAD\n",
      "['## Step'] DEAD\n",
      "['ALIVE'] DEAD\n",
      "['ALIVE'] DEAD\n",
      "['ALIVE'] DEAD\n",
      "['Dead\\nThe final'] DEAD\n",
      "['DEAD'] DEAD\n",
      "['ALIVE'] DEAD\n",
      "['DEAD'] DEAD\n",
      "['ALIVE'] DEAD\n",
      "['ALIVE'] DEAD\n",
      "['DEAD'] DEAD\n",
      "['# DEAD'] DEAD\n",
      "['ALIVE.'] DEAD\n",
      "['DEAD'] DEAD\n",
      "['DEAD.'] DEAD\n",
      "['ALIVE.'] DEAD\n",
      "['ALIVE'] DEAD\n",
      "['DEAD.\\nThe final'] DEAD\n",
      "['DEAD.'] DEAD\n"
     ]
    }
   ],
   "source": [
    "num_epoch = 20\n",
    "\n",
    "for epoch in range(num_epoch):\n",
    "    y_pred = inference_model.generate(prompts=responses, max_tokens=4)\n",
    "    print(y_pred, y)"
   ]
  }
 ],
 "metadata": {
  "kernelspec": {
   "display_name": ".venv",
   "language": "python",
   "name": "python3"
  },
  "language_info": {
   "codemirror_mode": {
    "name": "ipython",
    "version": 3
   },
   "file_extension": ".py",
   "mimetype": "text/x-python",
   "name": "python",
   "nbconvert_exporter": "python",
   "pygments_lexer": "ipython3",
   "version": "3.10.17"
  }
 },
 "nbformat": 4,
 "nbformat_minor": 2
}
