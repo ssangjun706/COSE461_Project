{
 "cells": [
  {
   "cell_type": "markdown",
   "id": "7486300e",
   "metadata": {},
   "source": [
    "## Setting"
   ]
  },
  {
   "cell_type": "code",
   "execution_count": 1,
   "id": "19962929",
   "metadata": {},
   "outputs": [],
   "source": [
    "import os\n",
    "import sys\n",
    "\n",
    "root = os.path.abspath(os.path.join(os.getcwd(), \"..\"))\n",
    "if root not in sys.path:\n",
    "    sys.path.append(root)\n",
    "\n",
    "import src.utils\n",
    "import random\n",
    "from datasets import load_dataset"
   ]
  },
  {
   "cell_type": "markdown",
   "id": "1ea46cdc",
   "metadata": {},
   "source": [
    "## Download datasets"
   ]
  },
  {
   "cell_type": "markdown",
   "id": "2ce7748f",
   "metadata": {},
   "source": [
    "### Adult Census Income Dataset"
   ]
  },
  {
   "cell_type": "code",
   "execution_count": 2,
   "id": "3a34f78c",
   "metadata": {},
   "outputs": [],
   "source": [
    "uci_adult = load_dataset(\"scikit-learn/adult-census-income\")"
   ]
  },
  {
   "cell_type": "code",
   "execution_count": 5,
   "id": "881b21c5",
   "metadata": {},
   "outputs": [
    {
     "data": {
      "text/plain": [
       "{'age': 31,\n",
       " 'workclass': 'Local-gov',\n",
       " 'fnlwgt': 90409,\n",
       " 'education': 'Some-college',\n",
       " 'education.num': 10,\n",
       " 'marital.status': 'Married-civ-spouse',\n",
       " 'occupation': 'Exec-managerial',\n",
       " 'relationship': 'Husband',\n",
       " 'race': 'White',\n",
       " 'sex': 'Male',\n",
       " 'capital.gain': 0,\n",
       " 'capital.loss': 0,\n",
       " 'hours.per.week': 35,\n",
       " 'native.country': 'United-States',\n",
       " 'income': '<=50K'}"
      ]
     },
     "execution_count": 5,
     "metadata": {},
     "output_type": "execute_result"
    }
   ],
   "source": [
    "random.choice(uci_adult[\"train\"])"
   ]
  },
  {
   "cell_type": "markdown",
   "id": "0577c8c1",
   "metadata": {},
   "source": [
    "### Breast Cancer Wisconsin Dataset"
   ]
  },
  {
   "cell_type": "code",
   "execution_count": 6,
   "id": "f6edce74",
   "metadata": {},
   "outputs": [],
   "source": [
    "breast_cancer = load_dataset(\"scikit-learn/breast-cancer-wisconsin\")"
   ]
  },
  {
   "cell_type": "code",
   "execution_count": 7,
   "id": "5060981b",
   "metadata": {},
   "outputs": [
    {
     "data": {
      "text/plain": [
       "{'id': 894855,\n",
       " 'diagnosis': 'B',\n",
       " 'radius_mean': 12.86,\n",
       " 'texture_mean': 13.32,\n",
       " 'perimeter_mean': 82.82,\n",
       " 'area_mean': 504.8,\n",
       " 'smoothness_mean': 0.1134,\n",
       " 'compactness_mean': 0.08834,\n",
       " 'concavity_mean': 0.038,\n",
       " 'concave points_mean': 0.034,\n",
       " 'symmetry_mean': 0.1543,\n",
       " 'fractal_dimension_mean': 0.06476,\n",
       " 'radius_se': 0.2212,\n",
       " 'texture_se': 1.042,\n",
       " 'perimeter_se': 1.614,\n",
       " 'area_se': 16.57,\n",
       " 'smoothness_se': 0.00591,\n",
       " 'compactness_se': 0.02016,\n",
       " 'concavity_se': 0.01902,\n",
       " 'concave points_se': 0.01011,\n",
       " 'symmetry_se': 0.01202,\n",
       " 'fractal_dimension_se': 0.003107,\n",
       " 'radius_worst': 14.04,\n",
       " 'texture_worst': 21.08,\n",
       " 'perimeter_worst': 92.8,\n",
       " 'area_worst': 599.5,\n",
       " 'smoothness_worst': 0.1547,\n",
       " 'compactness_worst': 0.2231,\n",
       " 'concavity_worst': 0.1791,\n",
       " 'concave points_worst': 0.1155,\n",
       " 'symmetry_worst': 0.2382,\n",
       " 'fractal_dimension_worst': 0.08553,\n",
       " 'Unnamed: 32': None}"
      ]
     },
     "execution_count": 7,
     "metadata": {},
     "output_type": "execute_result"
    }
   ],
   "source": [
    "random.choice(breast_cancer[\"train\"])"
   ]
  }
 ],
 "metadata": {
  "kernelspec": {
   "display_name": "COSE461",
   "language": "python",
   "name": "python3"
  },
  "language_info": {
   "codemirror_mode": {
    "name": "ipython",
    "version": 3
   },
   "file_extension": ".py",
   "mimetype": "text/x-python",
   "name": "python",
   "nbconvert_exporter": "python",
   "pygments_lexer": "ipython3",
   "version": "3.11.11"
  }
 },
 "nbformat": 4,
 "nbformat_minor": 5
}
