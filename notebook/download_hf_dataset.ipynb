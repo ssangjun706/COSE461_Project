{
 "cells": [
  {
   "cell_type": "markdown",
   "id": "7486300e",
   "metadata": {},
   "source": [
    "## Setting"
   ]
  },
  {
   "cell_type": "code",
   "execution_count": null,
   "id": "19962929",
   "metadata": {},
   "outputs": [],
   "source": [
    "import os\n",
    "import sys\n",
    "\n",
    "\n",
    "root = os.path.abspath(os.path.join(os.getcwd(), \"..\"))\n",
    "if root not in sys.path:\n",
    "    sys.path.append(root)\n",
    "\n",
    "import src.setup\n",
    "import random\n",
    "from datasets import load_dataset\n",
    "from dotenv import load_dotenv\n",
    "\n",
    "load_dotenv()\n",
    "access_token = os.getenv(\"HUGGINGFACE_ACCESS_TOKEN\")"
   ]
  },
  {
   "cell_type": "markdown",
   "id": "1ea46cdc",
   "metadata": {},
   "source": [
    "## Download datasets"
   ]
  },
  {
   "cell_type": "markdown",
   "id": "2ce7748f",
   "metadata": {},
   "source": [
    "### Adult Census Income Dataset"
   ]
  },
  {
   "cell_type": "code",
   "execution_count": 4,
   "id": "3a34f78c",
   "metadata": {},
   "outputs": [],
   "source": [
    "uci_adult = load_dataset(\"scikit-learn/adult-census-income\")"
   ]
  },
  {
   "cell_type": "code",
   "execution_count": 6,
   "id": "881b21c5",
   "metadata": {},
   "outputs": [
    {
     "data": {
      "text/plain": [
       "{'age': 19,\n",
       " 'workclass': 'Private',\n",
       " 'fnlwgt': 184710,\n",
       " 'education': 'Some-college',\n",
       " 'education.num': 10,\n",
       " 'marital.status': 'Never-married',\n",
       " 'occupation': 'Craft-repair',\n",
       " 'relationship': 'Own-child',\n",
       " 'race': 'White',\n",
       " 'sex': 'Male',\n",
       " 'capital.gain': 0,\n",
       " 'capital.loss': 0,\n",
       " 'hours.per.week': 20,\n",
       " 'native.country': 'United-States',\n",
       " 'income': '<=50K'}"
      ]
     },
     "execution_count": 6,
     "metadata": {},
     "output_type": "execute_result"
    }
   ],
   "source": [
    "random.choice(uci_adult[\"train\"])"
   ]
  },
  {
   "cell_type": "markdown",
   "id": "0577c8c1",
   "metadata": {},
   "source": [
    "### Breast Cancer Wisconsin Dataset"
   ]
  },
  {
   "cell_type": "code",
   "execution_count": null,
   "id": "f6edce74",
   "metadata": {},
   "outputs": [],
   "source": [
    "breast_cancer = load_dataset(\"scikit-learn/breast-cancer-wisconsin\")"
   ]
  },
  {
   "cell_type": "code",
   "execution_count": null,
   "id": "5060981b",
   "metadata": {},
   "outputs": [],
   "source": [
    "random.choice(breast_cancer[\"train\"])"
   ]
  }
 ],
 "metadata": {
  "kernelspec": {
   "display_name": "COSE461",
   "language": "python",
   "name": "python3"
  },
  "language_info": {
   "codemirror_mode": {
    "name": "ipython",
    "version": 3
   },
   "file_extension": ".py",
   "mimetype": "text/x-python",
   "name": "python",
   "nbconvert_exporter": "python",
   "pygments_lexer": "ipython3",
   "version": "3.11.11"
  }
 },
 "nbformat": 4,
 "nbformat_minor": 5
}
