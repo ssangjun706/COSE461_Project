{
 "cells": [
  {
   "cell_type": "code",
   "execution_count": 1,
   "metadata": {},
   "outputs": [],
   "source": [
    "import pandas as pd\n",
    "from sklearn.model_selection import train_test_split\n",
    "from sklearn.ensemble import RandomForestClassifier\n",
    "from sklearn.metrics import accuracy_score\n",
    "import warnings\n",
    "\n",
    "warnings.filterwarnings(\"ignore\")"
   ]
  },
  {
   "cell_type": "code",
   "execution_count": 2,
   "metadata": {},
   "outputs": [],
   "source": [
    "def preprocess_data(df):\n",
    "    df = df.drop([\"PassengerId\", \"Name\", \"Ticket\", \"Cabin\"], axis=1)\n",
    "    df[\"Sex\"] = df[\"Sex\"].map({\"male\": 0, \"female\": 1})\n",
    "    df[\"Embarked\"] = df[\"Embarked\"].fillna(df[\"Embarked\"].mode()[0])\n",
    "    df[\"Embarked\"] = df[\"Embarked\"].map({\"S\": 0, \"C\": 1, \"Q\": 2})\n",
    "    df[\"Age\"] = df[\"Age\"].fillna(df[\"Age\"].median())\n",
    "    df[\"Fare\"] = df[\"Fare\"].fillna(df[\"Fare\"].median())\n",
    "    return df"
   ]
  },
  {
   "cell_type": "code",
   "execution_count": 3,
   "metadata": {},
   "outputs": [],
   "source": [
    "data = pd.read_csv(\"../dataset/titanic-dataset.csv\")\n",
    "data = preprocess_data(data)\n",
    "X = data.drop(\"Survived\", axis=1)\n",
    "y = data[\"Survived\"]"
   ]
  },
  {
   "cell_type": "code",
   "execution_count": 4,
   "metadata": {},
   "outputs": [
    {
     "name": "stdout",
     "output_type": "stream",
     "text": [
      "Training the Model...\n",
      "Test Accuracy: 0.8268\n"
     ]
    }
   ],
   "source": [
    "X_train, X_test, y_train, y_test = train_test_split(\n",
    "    X, y, test_size=0.2, random_state=42\n",
    ")\n",
    "\n",
    "print(\"Training the Model...\")\n",
    "model = RandomForestClassifier(n_estimators=100, random_state=42)\n",
    "model.fit(X_train, y_train)\n",
    "\n",
    "y_pred = model.predict(X_test)\n",
    "accuracy = accuracy_score(y_test, y_pred)\n",
    "print(f\"Test Accuracy: {accuracy:.4f}\")"
   ]
  },
  {
   "cell_type": "code",
   "execution_count": 17,
   "metadata": {},
   "outputs": [],
   "source": [
    "true_y = y_test.values\n",
    "evaluation_results = [(y_pred.tolist(), true_y.tolist())]"
   ]
  },
  {
   "cell_type": "code",
   "execution_count": 18,
   "metadata": {},
   "outputs": [
    {
     "name": "stdout",
     "output_type": "stream",
     "text": [
      "\n",
      "Performance - Summary Statistics across 1 runs:\n",
      "============================================================\n",
      "\n",
      "Results saved to: ../results/Performance_20250525_131907.json\n",
      "Summary statistics:\n",
      "   - Timestamp: 2025-05-25T13:19:07.139077\n",
      "   - Accuracy: 0.8268\n",
      "   - Precision: 0.8261\n",
      "   - Recall: 0.8268\n",
      "   - F1_score: 0.8258\n",
      "   - Error_rate: 0.0000\n"
     ]
    },
    {
     "data": {
      "text/plain": [
       "{'evaluation_name': 'Performance',\n",
       " 'timestamp': '2025-05-25T13:19:07.139077',\n",
       " 'summary': {'accuracy': {'metric_name': 'Accuracy',\n",
       "   'mean': 0.8268156424581006,\n",
       "   'std': None,\n",
       "   'latex_format': '82.68%'},\n",
       "  'precision': {'metric_name': 'Precision',\n",
       "   'mean': 0.8261237588417574,\n",
       "   'std': None,\n",
       "   'latex_format': '82.61%'},\n",
       "  'recall': {'metric_name': 'Recall',\n",
       "   'mean': 0.8268156424581006,\n",
       "   'std': None,\n",
       "   'latex_format': '82.68%'},\n",
       "  'f1_score': {'metric_name': 'F1 score',\n",
       "   'mean': 0.825801715499,\n",
       "   'std': None,\n",
       "   'latex_format': '82.58%'},\n",
       "  'error_rate': {'metric_name': 'Error rate',\n",
       "   'mean': 0.0,\n",
       "   'std': None,\n",
       "   'latex_format': '0.00%'}}}"
      ]
     },
     "execution_count": 18,
     "metadata": {},
     "output_type": "execute_result"
    }
   ],
   "source": [
    "import os\n",
    "import sys\n",
    "\n",
    "root = os.path.abspath(os.path.join(os.getcwd(), \"..\"))\n",
    "if root not in sys.path:\n",
    "    sys.path.append(root)\n",
    "    \n",
    "from src.utils import evaluate_multiple_runs\n",
    "\n",
    "evaluate_multiple_runs(evaluation_results, \"Performance\", save_json=True, output_dir=\"../results/\")"
   ]
  }
 ],
 "metadata": {
  "kernelspec": {
   "display_name": ".venv",
   "language": "python",
   "name": "python3"
  },
  "language_info": {
   "codemirror_mode": {
    "name": "ipython",
    "version": 3
   },
   "file_extension": ".py",
   "mimetype": "text/x-python",
   "name": "python",
   "nbconvert_exporter": "python",
   "pygments_lexer": "ipython3",
   "version": "3.10.17"
  }
 },
 "nbformat": 4,
 "nbformat_minor": 2
}
