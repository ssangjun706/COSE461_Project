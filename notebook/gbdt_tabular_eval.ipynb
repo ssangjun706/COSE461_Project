{
 "cells": [
  {
   "cell_type": "markdown",
   "id": "3d808f31",
   "metadata": {},
   "source": [
    "## Setting"
   ]
  },
  {
   "cell_type": "code",
   "execution_count": 1,
   "id": "c0e3233a",
   "metadata": {},
   "outputs": [],
   "source": [
    "import os\n",
    "import sys\n",
    "\n",
    "root = os.path.abspath(os.path.join(os.getcwd(), \"..\"))\n",
    "if root not in sys.path:\n",
    "    sys.path.append(root)\n",
    "\n",
    "import src.utils as utils"
   ]
  },
  {
   "cell_type": "markdown",
   "id": "37856cc3",
   "metadata": {},
   "source": [
    "## Download datasets"
   ]
  },
  {
   "cell_type": "code",
   "execution_count": 2,
   "id": "1a8bf0fd",
   "metadata": {},
   "outputs": [],
   "source": [
    "from datasets import load_dataset\n",
    "from sklearn.model_selection import train_test_split\n",
    "from sklearn.preprocessing import OneHotEncoder, StandardScaler\n",
    "from sklearn.compose import ColumnTransformer\n",
    "from sklearn.pipeline import Pipeline\n",
    "from xgboost import XGBClassifier\n",
    "\n",
    "from sklearn.metrics import accuracy_score\n",
    "\n",
    "dataset = load_dataset(\"scikit-learn/adult-census-income\", split=\"train\")\n",
    "dataset = dataset.to_pandas()"
   ]
  },
  {
   "cell_type": "markdown",
   "id": "3ff2ca8a",
   "metadata": {},
   "source": [
    "## Training"
   ]
  },
  {
   "cell_type": "code",
   "execution_count": 3,
   "id": "594783c8",
   "metadata": {},
   "outputs": [
    {
     "name": "stdout",
     "output_type": "stream",
     "text": [
      "Test Accuracy: 0.8704\n"
     ]
    }
   ],
   "source": [
    "df, df_test = train_test_split(dataset, test_size=0.3, random_state=42)\n",
    "\n",
    "df[\"label\"] = df[\"income\"].apply(lambda x: 1 if x == \">50K\" else 0)\n",
    "df_test[\"label\"] = df_test[\"income\"].apply(lambda x: 1 if x == \">50K\" else 0)\n",
    "\n",
    "X_train = df.drop(columns=[\"income\", \"label\"])\n",
    "y_train = df[\"label\"]\n",
    "X_test = df_test.drop(columns=[\"income\", \"label\"])\n",
    "y_test = df_test[\"label\"]\n",
    "numeric_features = [\n",
    "    \"age\",\n",
    "    \"education_num\",\n",
    "    \"capital_gain\",\n",
    "    \"capital_loss\",\n",
    "    \"hours_per_week\",\n",
    "]\n",
    "# Ensure numeric_features and categorical_features match the actual column names\n",
    "numeric_features = [col for col in numeric_features if col in X_train.columns]\n",
    "categorical_features = [col for col in X_train.columns if col not in numeric_features]\n",
    "\n",
    "preprocessor = ColumnTransformer(\n",
    "    transformers=[\n",
    "        (\"num\", StandardScaler(), numeric_features),\n",
    "        (\"cat\", OneHotEncoder(handle_unknown=\"ignore\"), categorical_features),\n",
    "    ]\n",
    ")\n",
    "\n",
    "clf = Pipeline(\n",
    "    steps=[\n",
    "        (\"preprocessor\", preprocessor),\n",
    "        (\"classifier\", XGBClassifier(random_state=42)),\n",
    "    ]\n",
    ")\n",
    "\n",
    "clf.fit(X_train, y_train)\n",
    "\n",
    "y_pred = clf.predict(X_test)\n",
    "acc = accuracy_score(y_test, y_pred)\n",
    "print(f\"Test Accuracy: {acc:.4f}\")"
   ]
  }
 ],
 "metadata": {
  "kernelspec": {
   "display_name": "COSE461",
   "language": "python",
   "name": "python3"
  },
  "language_info": {
   "codemirror_mode": {
    "name": "ipython",
    "version": 3
   },
   "file_extension": ".py",
   "mimetype": "text/x-python",
   "name": "python",
   "nbconvert_exporter": "python",
   "pygments_lexer": "ipython3",
   "version": "3.11.11"
  }
 },
 "nbformat": 4,
 "nbformat_minor": 5
}
