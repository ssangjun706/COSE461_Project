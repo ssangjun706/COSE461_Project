{
 "cells": [
  {
   "cell_type": "markdown",
   "id": "1ea46cdc",
   "metadata": {},
   "source": [
    "## Download datasets"
   ]
  },
  {
   "cell_type": "code",
   "execution_count": 2,
   "id": "e9ce8994",
   "metadata": {},
   "outputs": [],
   "source": [
    "from datasets import load_dataset\n",
    "\n",
    "# UCI Adult income dataset\n",
    "uci_adult = load_dataset(\"scikit-learn/adult-census-income\", cache_dir=\"../data/raw\")\n",
    "\n",
    "# Breast Cancer Wisconsin Diagnostic Dataset\n",
    "breast_cancer = load_dataset(\n",
    "    \"scikit-learn/breast-cancer-wisconsin\", cache_dir=\"../data/raw\"\n",
    ")"
   ]
  },
  {
   "cell_type": "code",
   "execution_count": 32,
   "id": "95d27601",
   "metadata": {},
   "outputs": [
    {
     "data": {
      "text/plain": [
       "{'age': 46,\n",
       " 'workclass': 'Self-emp-not-inc',\n",
       " 'fnlwgt': 254291,\n",
       " 'education': 'Some-college',\n",
       " 'education.num': 10,\n",
       " 'marital.status': 'Married-civ-spouse',\n",
       " 'occupation': 'Sales',\n",
       " 'relationship': 'Husband',\n",
       " 'race': 'White',\n",
       " 'sex': 'Male',\n",
       " 'capital.gain': 0,\n",
       " 'capital.loss': 0,\n",
       " 'hours.per.week': 60,\n",
       " 'native.country': 'United-States',\n",
       " 'income': '>50K'}"
      ]
     },
     "execution_count": 32,
     "metadata": {},
     "output_type": "execute_result"
    }
   ],
   "source": [
    "import random\n",
    "\n",
    "random.choice(uci_adult[\"train\"])"
   ]
  },
  {
   "cell_type": "code",
   "execution_count": 4,
   "id": "5060981b",
   "metadata": {},
   "outputs": [
    {
     "data": {
      "text/plain": [
       "{'id': 874662,\n",
       " 'diagnosis': 'B',\n",
       " 'radius_mean': 11.81,\n",
       " 'texture_mean': 17.39,\n",
       " 'perimeter_mean': 75.27,\n",
       " 'area_mean': 428.9,\n",
       " 'smoothness_mean': 0.1007,\n",
       " 'compactness_mean': 0.05562,\n",
       " 'concavity_mean': 0.02353,\n",
       " 'concave points_mean': 0.01553,\n",
       " 'symmetry_mean': 0.1718,\n",
       " 'fractal_dimension_mean': 0.0578,\n",
       " 'radius_se': 0.1859,\n",
       " 'texture_se': 1.926,\n",
       " 'perimeter_se': 1.011,\n",
       " 'area_se': 14.47,\n",
       " 'smoothness_se': 0.007831,\n",
       " 'compactness_se': 0.008776,\n",
       " 'concavity_se': 0.01556,\n",
       " 'concave points_se': 0.00624,\n",
       " 'symmetry_se': 0.03139,\n",
       " 'fractal_dimension_se': 0.001988,\n",
       " 'radius_worst': 12.57,\n",
       " 'texture_worst': 26.48,\n",
       " 'perimeter_worst': 79.57,\n",
       " 'area_worst': 489.5,\n",
       " 'smoothness_worst': 0.1356,\n",
       " 'compactness_worst': 0.1,\n",
       " 'concavity_worst': 0.08803,\n",
       " 'concave points_worst': 0.04306,\n",
       " 'symmetry_worst': 0.32,\n",
       " 'fractal_dimension_worst': 0.06576,\n",
       " 'Unnamed: 32': None}"
      ]
     },
     "execution_count": 4,
     "metadata": {},
     "output_type": "execute_result"
    }
   ],
   "source": [
    "random.choice(breast_cancer[\"train\"])"
   ]
  }
 ],
 "metadata": {
  "kernelspec": {
   "display_name": ".venv",
   "language": "python",
   "name": "python3"
  },
  "language_info": {
   "codemirror_mode": {
    "name": "ipython",
    "version": 3
   },
   "file_extension": ".py",
   "mimetype": "text/x-python",
   "name": "python",
   "nbconvert_exporter": "python",
   "pygments_lexer": "ipython3",
   "version": "3.11.11"
  }
 },
 "nbformat": 4,
 "nbformat_minor": 5
}
