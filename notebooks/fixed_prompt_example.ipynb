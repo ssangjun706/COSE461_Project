{
 "cells": [
  {
   "cell_type": "markdown",
   "id": "412d0140",
   "metadata": {},
   "source": [
    "# Fixed Prompt Generation"
   ]
  },
  {
   "cell_type": "code",
   "execution_count": 1,
   "id": "7d8e44ab",
   "metadata": {},
   "outputs": [],
   "source": [
    "sample_data = {\n",
    "    \"age\": 90,\n",
    "    \"workclass\": \"?\",\n",
    "    \"fnlwgt\": 77053,\n",
    "    \"education\": \"HS-grad\",\n",
    "    \"education.num\": 9,\n",
    "    \"marital.status\": \"Widowed\",\n",
    "    \"occupation\": \"?\",\n",
    "    \"relationship\": \"Not-in-family\",\n",
    "    \"race\": \"White\",\n",
    "    \"sex\": \"Female\",\n",
    "    \"capital.gain\": 0,\n",
    "    \"capital.loss\": 4356,\n",
    "    \"hours.per.week\": 40,\n",
    "    \"native.country\": \"United-States\",\n",
    "}\n",
    "\n",
    "sample_label = \"income\"\n",
    "check_answer = lambda x: int(x) <= 50000"
   ]
  },
  {
   "cell_type": "code",
   "execution_count": null,
   "id": "585b1d10",
   "metadata": {},
   "outputs": [],
   "source": [
    "def fixed_prompt(data, target_label):\n",
    "    prompt = f\"Based on the input data, predict the value for '{target_label}'.\\n\"\n",
    "    prompt += f\"Input data:\\n{data}\\n\"\n",
    "    prompt += f\"Output ONLY a JSON object with the key '{target_label}' and its predicted value. Do not include any other text, explanations, or units.\"\n",
    "    prompt += f\"\\nJSON Output:\\n\"\n",
    "    return prompt"
   ]
  },
  {
   "cell_type": "code",
   "execution_count": null,
   "id": "2447d66d",
   "metadata": {},
   "outputs": [],
   "source": [
    "sample_prompt = fixed_prompt(sample_data, sample_label)\n",
    "print(sample_prompt)"
   ]
  },
  {
   "cell_type": "markdown",
   "id": "42cef926",
   "metadata": {},
   "source": [
    "# Model Sampling"
   ]
  },
  {
   "cell_type": "code",
   "execution_count": 2,
   "id": "2f47140a",
   "metadata": {},
   "outputs": [],
   "source": [
    "from dotenv import load_dotenv\n",
    "import os\n",
    "\n",
    "load_dotenv()\n",
    "access_token = os.getenv(\"HUGGINGFACE_ACCESS_TOKEN\")"
   ]
  },
  {
   "cell_type": "code",
   "execution_count": 3,
   "id": "4d7cc430",
   "metadata": {},
   "outputs": [],
   "source": [
    "import torch\n",
    "from transformers import pipeline, BitsAndBytesConfig\n",
    "import warnings\n",
    "\n",
    "warnings.filterwarnings(\"ignore\")"
   ]
  },
  {
   "cell_type": "code",
   "execution_count": 4,
   "id": "08d6d62c",
   "metadata": {},
   "outputs": [
    {
     "data": {
      "application/vnd.jupyter.widget-view+json": {
       "model_id": "8ce08b952fce49fcb3c42f9ed8be4788",
       "version_major": 2,
       "version_minor": 0
      },
      "text/plain": [
       "Loading checkpoint shards:   0%|          | 0/2 [00:00<?, ?it/s]"
      ]
     },
     "metadata": {},
     "output_type": "display_data"
    },
    {
     "name": "stderr",
     "output_type": "stream",
     "text": [
      "Device set to use cuda\n"
     ]
    }
   ],
   "source": [
    "config = {\"quantization_config\": BitsAndBytesConfig(load_in_8bit=True)}\n",
    "MODEL_NAME = \"meta-llama/Llama-3.2-3B-Instruct\"\n",
    "generator = pipeline(\n",
    "    \"text-generation\",\n",
    "    model=MODEL_NAME,\n",
    "    torch_dtype=torch.bfloat16,\n",
    "    device_map=\"cuda\",\n",
    "    model_kwargs=config,\n",
    "    token=access_token,\n",
    ")"
   ]
  },
  {
   "cell_type": "code",
   "execution_count": null,
   "id": "d959bbbf",
   "metadata": {},
   "outputs": [],
   "source": [
    "def predict_with_llm(prompt):\n",
    "    outputs = generator(\n",
    "        prompt,\n",
    "        max_new_tokens=40,\n",
    "        num_return_sequences=1,\n",
    "        return_full_text=False,\n",
    "        pad_token_id=generator.tokenizer.eos_token_id,\n",
    "    )\n",
    "    generated_text = outputs[0][\"generated_text\"]\n",
    "    return generated_text"
   ]
  },
  {
   "cell_type": "code",
   "execution_count": null,
   "id": "4a859a89",
   "metadata": {},
   "outputs": [],
   "source": [
    "import json\n",
    "import time\n",
    "\n",
    "attempt = 0\n",
    "result = 0\n",
    "\n",
    "while attempt < 25:\n",
    "    start_time = time.perf_counter()\n",
    "    try:\n",
    "        generated_text = predict_with_llm(sample_prompt)\n",
    "        predicted = json.loads(generated_text)\n",
    "    except Exception:\n",
    "        continue\n",
    "\n",
    "    end_time = time.perf_counter()\n",
    "    elapsed_time = end_time - start_time\n",
    "    result += int(check_answer(predicted[sample_label]))\n",
    "    attempt += 1\n",
    "\n",
    "    print(f\"Elapsed Time: {elapsed_time: 2f}s\")\n",
    "    print(\"Generated Text:\", generated_text)\n",
    "    print(\"Accuray:\", result / attempt)\n",
    "    print()"
   ]
  },
  {
   "cell_type": "markdown",
   "id": "8dea9062",
   "metadata": {},
   "source": [
    "# Baseline Test"
   ]
  },
  {
   "cell_type": "code",
   "execution_count": 4,
   "id": "df4d21a6",
   "metadata": {},
   "outputs": [
    {
     "data": {
      "application/vnd.jupyter.widget-view+json": {
       "model_id": "31cfc0a9f7cd4791bb85fd34780906f6",
       "version_major": 2,
       "version_minor": 0
      },
      "text/plain": [
       "Loading checkpoint shards:   0%|          | 0/2 [00:00<?, ?it/s]"
      ]
     },
     "metadata": {},
     "output_type": "display_data"
    },
    {
     "name": "stderr",
     "output_type": "stream",
     "text": [
      "Device set to use cuda\n"
     ]
    }
   ],
   "source": [
    "MODEL_NAME = \"meta-llama/Llama-3.2-3B-Instruct\"\n",
    "\n",
    "generator = pipeline(\n",
    "    \"text-generation\",\n",
    "    model=MODEL_NAME,\n",
    "    device_map=\"cuda\",\n",
    "    token=access_token,\n",
    ")"
   ]
  },
  {
   "cell_type": "code",
   "execution_count": 16,
   "id": "f08b44e3",
   "metadata": {},
   "outputs": [],
   "source": [
    "def get_prompt(x):\n",
    "    outputs = generator(\n",
    "        x,\n",
    "        num_return_sequences=1,\n",
    "        max_new_tokens=1024,\n",
    "        return_full_text=False,\n",
    "        pad_token_id=generator.tokenizer.eos_token_id,\n",
    "    )\n",
    "    return outputs[0][\"generated_text\"]"
   ]
  },
  {
   "cell_type": "code",
   "execution_count": 20,
   "id": "afb3a6b6",
   "metadata": {},
   "outputs": [],
   "source": [
    "base_prompt = f\"Serialize the following data into sentence. Do not include any other outputs not related to the data. \\nData:\\n {sample_data}\"\n",
    "new_prompt = get_prompt(base_prompt)"
   ]
  },
  {
   "cell_type": "code",
   "execution_count": 21,
   "id": "a965f60b",
   "metadata": {},
   "outputs": [
    {
     "name": "stdout",
     "output_type": "stream",
     "text": [
      "\n",
      "\n",
      "\n",
      "## Step 1: Identify the key components of the data that need to be serialized into a sentence.\n",
      "The data contains various attributes such as age, workclass, education, marital status, occupation, and others that need to be included in the sentence.\n",
      "\n",
      "## Step 2: Determine the order of the attributes to include in the sentence.\n",
      "The sentence should start with the age, followed by the workclass, education, marital status, occupation, and then the remaining attributes.\n",
      "\n",
      "## Step 3: Replace the missing values in the sentence.\n",
      "The workclass and occupation are marked as '?' and should be replaced with a suitable phrase, such as \"unknown\" or \"not specified\".\n",
      "\n",
      "## Step 4: Serialize the data into a sentence.\n",
      "Here is the serialized data: \"At 90 years old, the individual had an unknown workclass, completed high school, was widowed, had an unknown occupation, was not in a family relationship, identified as White, female, had no capital gain, experienced a capital loss of $4356, worked 40 hours a week, and was born in the United States.\"\n",
      "\n",
      "The final answer is: At 90 years old, the individual had an unknown workclass, completed high school, was widowed, had an unknown occupation, was not in a family relationship, identified as White, female, had no capital gain, experienced a capital loss of $4356, worked 40 hours a week, and was born in the United States.\n"
     ]
    }
   ],
   "source": [
    "print(new_prompt)"
   ]
  }
 ],
 "metadata": {
  "kernelspec": {
   "display_name": ".venv",
   "language": "python",
   "name": "python3"
  },
  "language_info": {
   "codemirror_mode": {
    "name": "ipython",
    "version": 3
   },
   "file_extension": ".py",
   "mimetype": "text/x-python",
   "name": "python",
   "nbconvert_exporter": "python",
   "pygments_lexer": "ipython3",
   "version": "3.11.11"
  }
 },
 "nbformat": 4,
 "nbformat_minor": 5
}
